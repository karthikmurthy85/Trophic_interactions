{
 "cells": [
  {
   "cell_type": "code",
   "execution_count": 1,
   "id": "f70a92d1",
   "metadata": {},
   "outputs": [],
   "source": [
    "import sympy as sm\n",
    "import numpy as np\n",
    "import scipy as sp\n",
    "import pandas as pd\n",
    "import matplotlib.pyplot as plt\n",
    "from scipy.integrate import solve_ivp\n",
    "import timeit"
   ]
  },
  {
   "cell_type": "code",
   "execution_count": 2,
   "id": "410cefc2",
   "metadata": {},
   "outputs": [],
   "source": [
    "# r, K, aC, eC, hC, mC, aP, eP, hP, mP, q = sm.symbols('r, K, a_C, e_C, h_C, m_C, a_P, e_P, h_P, m_P,q', positive=True)\n",
    "# R, C, P = sm.symbols('R, C, P', negative=False)\n",
    "\n",
    "\n",
    "# Rdt = r*R*(1 - (R*q)) - (aC*R*C)/(1 + (aC*hC*R))\n",
    "# Cdt = (eC*aC*R*C)/(1 + (aC*hC*R)) - (aP*C*P)/(1+ (aP*hP*C)) - mC*C\n",
    "# Pdt = (eP*aP*C*P)/(1+ (aP*hP*C)) - mP*P\n",
    "\n",
    "# sm.Matrix([Rdt, Cdt, Pdt])"
   ]
  },
  {
   "cell_type": "code",
   "execution_count": 3,
   "id": "e19316cc",
   "metadata": {},
   "outputs": [],
   "source": [
    "# Ms = sm.Matrix([Rdt, Cdt, Pdt])\n",
    "# Msv = Ms.jacobian([R, C, P])\n",
    "\n",
    "# m00 = Msv[0,0].simplify()\n",
    "# m01 = Msv[0,1].simplify()\n",
    "# m02 = 0\n",
    "\n",
    "# m10 = Msv[1,0].simplify()\n",
    "# m11 = Msv[1,1].simplify()\n",
    "# m12 = Msv[1,2].simplify()\n",
    "\n",
    "# m20 = 0\n",
    "# m21 = Msv[2,1].simplify()\n",
    "# m22 = Msv[2,2]\n",
    "\n",
    "# Jss = sm.Matrix([[m00, m01, m02],[m10, m11, m12],[m20, m21, m22]])\n",
    "# Jss"
   ]
  },
  {
   "cell_type": "code",
   "execution_count": 4,
   "id": "e76a4438",
   "metadata": {},
   "outputs": [
    {
     "data": {
      "text/plain": [
       "(10, 1000)"
      ]
     },
     "execution_count": 4,
     "metadata": {},
     "output_type": "execute_result"
    }
   ],
   "source": [
    "pars = pd.read_csv(\"C:/SDMS/trophic_temp/param_hycub_H2.csv\")\n",
    "par1 = np.array(pars)\n",
    "np.shape(par1)"
   ]
  },
  {
   "cell_type": "code",
   "execution_count": 8,
   "id": "61c1ad87",
   "metadata": {},
   "outputs": [],
   "source": [
    "def Lyapunov_Jac_RCP (t, u, r1, q1, aC1, eC1, hC1, mC1, aP1, eP1, mP1, hP1):\n",
    "    \n",
    "    du = np.zeros([12, 1])\n",
    "    \n",
    "    #variables\n",
    "    R = u[0]\n",
    "    C = u[1]\n",
    "    P = u[2]\n",
    "    \n",
    "    #State variables\n",
    "    du[0] = r1*R*(1 - (R*q1)) - (aC1*R*C)/(1 + (aC1*hC1*R))\n",
    "    du[1] = (eC1*aC1*R*C)/(1 + (aC1*hC1*R)) - (aP1*C*P)/(1+ (aP1*hP1*C)) - mC1*C\n",
    "    du[2] = (eP1*aP1*C*P)/(1+ (aP1*hP1*C)) - mP1*P\n",
    "    \n",
    "    ##Jacobian calculation\n",
    "    Jab11 = -C*aC1/(R*aC1*hC1 + 1)**2 - 2*R*q1*r1 + r1\n",
    "    Jab12 = -R*aC1/(R*aC1*hC1 + 1)\n",
    "    Jab13 = 0\n",
    "\n",
    "    Jab21 = C*aC1*eC1/(R*aC1*hC1 + 1)**2\n",
    "    Jab22 = C*P*aP1**2*hP1/(C*aP1*hP1 + 1)**2 - P*aP1/(C*aP1*hP1 + 1) + R*aC1*eC1/(R*aC1*hC1 + 1) - mC1\n",
    "    Jab23 = -C*aP1/(C*aP1*hP1 + 1)\n",
    "\n",
    "    Jab31 = 0\n",
    "    Jab32 = P*aP1*eP1/(C*aP1*hP1 + 1)**2\n",
    "    Jab33 = C*aP1*eP1/(C*aP1*hP1 + 1) - mP1\n",
    "    \n",
    "    ##Jacobian in matrix form\n",
    "    Jx = np.array([[Jab11, Jab12, Jab13],[Jab21, Jab22, Jab23],[Jab31, Jab32, Jab33]])\n",
    "    Dx0 = u[np.arange(3, 3+9)].reshape(3,3)\n",
    "\n",
    "    dDx0 = (np.matmul(Jx,Dx0))\n",
    "    dDxv0 = dDx0.reshape(9, 1)\n",
    "    du[np.arange(3, 3+9)] = dDxv0\n",
    "    \n",
    "    du = du.reshape(12,)\n",
    "    return(du)\n",
    "    "
   ]
  },
  {
   "cell_type": "code",
   "execution_count": null,
   "id": "cc755650",
   "metadata": {},
   "outputs": [],
   "source": [
    "i=27\n",
    "r0 = par1[0][i]; q0 =  par1[1][i]\n",
    "aC0 = par1[2][i]; eC0 = par1[3][i]; mC0 = par1[4][i]; hC0 = par1[5][i]\n",
    "aP0 = par1[6][i]; eP0 = par1[7][i]; mP0 = par1[8][i]; hP0 = par1[9][i]\n",
    "\n",
    "u00 = np.array([5000, 280, 58])\n",
    "p = (r0, q0, aC0, eC0, hC0, mC0, aP0, eP0, mP0, hP0)\n",
    "   \n",
    "tend = 100000\n",
    "t_span = (0, tend)\n",
    "tint = np.linspace(0, tend, tend*2)\n",
    "\n",
    "u0 = np.concatenate((u00, np.eye(3).reshape(9)), axis=0)\n",
    "sol1 = solve_ivp (Lyapunov_Jac_RCP, t_span, u0, args = p, t_eval = tint, method= 'RK45', rtol=1e-06, atol=1e-06)\n",
    "\n",
    "print(np.shape(sol1.y))\n",
    "print(np.shape(sol1.t))"
   ]
  },
  {
   "cell_type": "code",
   "execution_count": null,
   "id": "fe56818f",
   "metadata": {},
   "outputs": [],
   "source": [
    "Dxv = (sol1.y[np.arange(3,3+9),:]).T\n",
    "Ts = np.shape(Dxv)[0]\n",
    "print(np.shape(Dxv))\n",
    "Dxv"
   ]
  },
  {
   "cell_type": "code",
   "execution_count": null,
   "id": "fe7115ab",
   "metadata": {},
   "outputs": [],
   "source": [
    "##Lyapunov exponents\n",
    "Dxv = (sol1.y[np.arange(3,3+9),:]).T\n",
    "Ts = np.shape(Dxv)[0]\n",
    "\n",
    "lmbda = np.empty([Ts,3])*np.nan; Nexpx0 = np.empty(Ts)*np.nan;\n",
    "\n",
    "for i in np.arange(Ts):\n",
    "    Dxi = Dxv[i,:].reshape(3,3)\n",
    "    Mi = np.matmul(Dxi.T, Dxi)\n",
    "    \n",
    "    \n",
    "    Mi1 = np.count_nonzero(Mi == np.inf)\n",
    "    Mi2 = np.count_nonzero(Mi == np.nan)\n",
    "    Mii = Mi1 + Mi2\n",
    "    \n",
    "    if Mii == 0:\n",
    "        Uxi,Lxi,Vxi = np.linalg.svd(Mi, full_matrices=True)\n",
    "        Ldxi = np.diag(Lxi);\n",
    "\n",
    "        ti = tint[i];\n",
    "        lambdai = np.log(Lxi)/(2*ti)\n",
    "        Nexpx0i = len(lambdai[lambdai > 0])\n",
    "\n",
    "        lmbda[i,:] = lambdai\n",
    "        Nexpx0[i] = Nexpx0i"
   ]
  },
  {
   "cell_type": "code",
   "execution_count": null,
   "id": "470fed22",
   "metadata": {},
   "outputs": [],
   "source": [
    "lmbda[-10:]"
   ]
  },
  {
   "cell_type": "code",
   "execution_count": null,
   "id": "9fb73d90",
   "metadata": {},
   "outputs": [],
   "source": [
    "Nexpx0[-100:]"
   ]
  }
 ],
 "metadata": {
  "kernelspec": {
   "display_name": "Python 3",
   "language": "python",
   "name": "python3"
  },
  "language_info": {
   "codemirror_mode": {
    "name": "ipython",
    "version": 3
   },
   "file_extension": ".py",
   "mimetype": "text/x-python",
   "name": "python",
   "nbconvert_exporter": "python",
   "pygments_lexer": "ipython3",
   "version": "3.10.5"
  }
 },
 "nbformat": 4,
 "nbformat_minor": 5
}
