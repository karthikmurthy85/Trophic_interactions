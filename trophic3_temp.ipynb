{
 "cells": [
  {
   "cell_type": "code",
   "execution_count": 3,
   "metadata": {},
   "outputs": [],
   "source": [
    "import sympy as sm\n",
    "import numpy as np\n",
    "import scipy as sp\n",
    "import matplotlib.pyplot as plt"
   ]
  },
  {
   "cell_type": "code",
   "execution_count": 4,
   "metadata": {
    "scrolled": true
   },
   "outputs": [
    {
     "data": {
      "text/latex": [
       "$\\displaystyle \\left[\\begin{matrix}- \\frac{C R a_{C}}{R a_{C} h_{C} + 1} + R r \\left(- R q + 1\\right)\\\\- \\frac{C P a_{P}}{C a_{P} h_{P} + 1} + \\frac{C R a_{C} e_{C}}{R a_{C} h_{C} + 1} - C m_{C}\\\\\\frac{C P a_{P} e_{P}}{C a_{P} h_{P} + 1} - P m_{P}\\end{matrix}\\right]$"
      ],
      "text/plain": [
       "Matrix([\n",
       "[                     -C*R*a_C/(R*a_C*h_C + 1) + R*r*(-R*q + 1)],\n",
       "[-C*P*a_P/(C*a_P*h_P + 1) + C*R*a_C*e_C/(R*a_C*h_C + 1) - C*m_C],\n",
       "[                           C*P*a_P*e_P/(C*a_P*h_P + 1) - P*m_P]])"
      ]
     },
     "execution_count": 4,
     "metadata": {},
     "output_type": "execute_result"
    }
   ],
   "source": [
    "r, K, aC, eC, hC, mC, aP, eP, hP, mP, q = sm.symbols('r, K, a_C, e_C, h_C, m_C, a_P, e_P, h_P, m_P,q', positive=True)\n",
    "R, C, P = sm.symbols('R, C, P', negative=False)\n",
    "\n",
    "\n",
    "Rdt = r*R*(1 - (R*q)) - (aC*R*C)/(1 + (aC*hC*R))\n",
    "Cdt = (eC*aC*R*C)/(1 + (aC*hC*R)) - (aP*C*P)/(1+ (aP*hP*C)) - mC*C\n",
    "Pdt = (eP*aP*C*P)/(1+ (aP*hP*C)) - mP*P\n",
    "\n",
    "sm.Matrix([Rdt, Cdt, Pdt])"
   ]
  },
  {
   "cell_type": "code",
   "execution_count": 5,
   "metadata": {},
   "outputs": [
    {
     "data": {
      "text/latex": [
       "$\\displaystyle - \\frac{- a_{C} h_{C} + q}{2 a_{C} h_{C} q} + \\frac{\\sqrt{a_{C}^{2} h_{C}^{2} r - \\frac{4 a_{C}^{2} h_{C} m_{P} q}{a_{P} \\left(e_{P} - h_{P} m_{P}\\right)} + 2 a_{C} h_{C} q r + q^{2} r}}{2 a_{C} h_{C} q \\sqrt{r}}$"
      ],
      "text/plain": [
       "-(-a_C*h_C + q)/(2*a_C*h_C*q) + sqrt(a_C**2*h_C**2*r - 4*a_C**2*h_C*m_P*q/(a_P*(e_P - h_P*m_P)) + 2*a_C*h_C*q*r + q**2*r)/(2*a_C*h_C*q*sqrt(r))"
      ]
     },
     "execution_count": 5,
     "metadata": {},
     "output_type": "execute_result"
    }
   ],
   "source": [
    "Cfp = sm.solve(Pdt, C)\n",
    "Cfp[0]\n",
    "\n",
    "Rfp = sm.solve(Rdt, R)\n",
    "R3 = Rfp[2].subs(C,Cfp[0])\n",
    "R3"
   ]
  },
  {
   "cell_type": "code",
   "execution_count": 6,
   "metadata": {},
   "outputs": [],
   "source": [
    "r = 2.3; q = 1/15000\n",
    "aC = 0.009; eC = 0.015; mC = 0.1; hC = 0.1\n",
    "aP = 0.02; eP = 0.03; mP = 0.05; hP = 0.2"
   ]
  },
  {
   "cell_type": "code",
   "execution_count": 7,
   "metadata": {},
   "outputs": [
    {
     "data": {
      "text/latex": [
       "$\\displaystyle \\left[\\begin{matrix}\\frac{C R a_{C}^{2} h_{C}}{\\left(R a_{C} h_{C} + 1\\right)^{2}} - \\frac{C a_{C}}{R a_{C} h_{C} + 1} - R q r + r \\left(- R q + 1\\right) & - \\frac{R a_{C}}{R a_{C} h_{C} + 1} & 0\\\\- \\frac{C R a_{C}^{2} e_{C} h_{C}}{\\left(R a_{C} h_{C} + 1\\right)^{2}} + \\frac{C a_{C} e_{C}}{R a_{C} h_{C} + 1} & \\frac{C P a_{P}^{2} h_{P}}{\\left(C a_{P} h_{P} + 1\\right)^{2}} - \\frac{P a_{P}}{C a_{P} h_{P} + 1} + \\frac{R a_{C} e_{C}}{R a_{C} h_{C} + 1} - m_{C} & - \\frac{C a_{P}}{C a_{P} h_{P} + 1}\\\\0 & - \\frac{C P a_{P}^{2} e_{P} h_{P}}{\\left(C a_{P} h_{P} + 1\\right)^{2}} + \\frac{P a_{P} e_{P}}{C a_{P} h_{P} + 1} & \\frac{C a_{P} e_{P}}{C a_{P} h_{P} + 1} - m_{P}\\end{matrix}\\right]$"
      ],
      "text/plain": [
       "Matrix([\n",
       "[C*R*a_C**2*h_C/(R*a_C*h_C + 1)**2 - C*a_C/(R*a_C*h_C + 1) - R*q*r + r*(-R*q + 1),                                                                      -R*a_C/(R*a_C*h_C + 1),                               0],\n",
       "[              -C*R*a_C**2*e_C*h_C/(R*a_C*h_C + 1)**2 + C*a_C*e_C/(R*a_C*h_C + 1), C*P*a_P**2*h_P/(C*a_P*h_P + 1)**2 - P*a_P/(C*a_P*h_P + 1) + R*a_C*e_C/(R*a_C*h_C + 1) - m_C,          -C*a_P/(C*a_P*h_P + 1)],\n",
       "[                                                                               0,                          -C*P*a_P**2*e_P*h_P/(C*a_P*h_P + 1)**2 + P*a_P*e_P/(C*a_P*h_P + 1), C*a_P*e_P/(C*a_P*h_P + 1) - m_P]])"
      ]
     },
     "execution_count": 7,
     "metadata": {},
     "output_type": "execute_result"
    }
   ],
   "source": [
    "Ms = sm.Matrix([Rdt, Cdt, Pdt])\n",
    "Msv = Ms.jacobian([R, C, P])\n",
    "Msv"
   ]
  },
  {
   "cell_type": "code",
   "execution_count": 8,
   "metadata": {},
   "outputs": [
    {
     "data": {
      "text/latex": [
       "$\\displaystyle \\left[\\begin{matrix}- \\frac{C a_{C}}{\\left(R a_{C} h_{C} + 1\\right)^{2}} - 2 R q r + r & - \\frac{R a_{C}}{R a_{C} h_{C} + 1} & 0\\\\\\frac{C a_{C} e_{C}}{\\left(R a_{C} h_{C} + 1\\right)^{2}} & \\frac{C P a_{P}^{2} h_{P}}{\\left(C a_{P} h_{P} + 1\\right)^{2}} - \\frac{P a_{P}}{C a_{P} h_{P} + 1} + \\frac{R a_{C} e_{C}}{R a_{C} h_{C} + 1} - m_{C} & - \\frac{C a_{P}}{C a_{P} h_{P} + 1}\\\\0 & \\frac{P a_{P} e_{P}}{\\left(C a_{P} h_{P} + 1\\right)^{2}} & \\frac{C a_{P} e_{P}}{C a_{P} h_{P} + 1} - m_{P}\\end{matrix}\\right]$"
      ],
      "text/plain": [
       "Matrix([\n",
       "[-C*a_C/(R*a_C*h_C + 1)**2 - 2*R*q*r + r,                                                                      -R*a_C/(R*a_C*h_C + 1),                               0],\n",
       "[           C*a_C*e_C/(R*a_C*h_C + 1)**2, C*P*a_P**2*h_P/(C*a_P*h_P + 1)**2 - P*a_P/(C*a_P*h_P + 1) + R*a_C*e_C/(R*a_C*h_C + 1) - m_C,          -C*a_P/(C*a_P*h_P + 1)],\n",
       "[                                      0,                                                                P*a_P*e_P/(C*a_P*h_P + 1)**2, C*a_P*e_P/(C*a_P*h_P + 1) - m_P]])"
      ]
     },
     "execution_count": 8,
     "metadata": {},
     "output_type": "execute_result"
    }
   ],
   "source": [
    "m00 = Msv[0,0].simplify()\n",
    "m01 = Msv[0,1].simplify()\n",
    "m02 = 0\n",
    "\n",
    "m10 = Msv[1,0].simplify()\n",
    "m11 = Msv[1,1].simplify()\n",
    "m12 = Msv[1,2].simplify()\n",
    "\n",
    "m20 = 0\n",
    "m21 = Msv[2,1].simplify()\n",
    "m22 = Msv[2,2]\n",
    "\n",
    "Jss = sm.Matrix([[m00, m01, m02],[m10, m11, m12],[m20, m21, m22]])\n",
    "Jss"
   ]
  },
  {
   "cell_type": "code",
   "execution_count": 9,
   "metadata": {},
   "outputs": [
    {
     "data": {
      "text/latex": [
       "$\\displaystyle 125.0$"
      ],
      "text/plain": [
       "125.000000000000"
      ]
     },
     "execution_count": 9,
     "metadata": {},
     "output_type": "execute_result"
    }
   ],
   "source": [
    "r, K, aC, eC, hC, mC, aP, eP, hP, mP, q = sm.symbols('r, K, a_C, e_C, h_C, m_C, a_P, e_P, h_P, m_P,q', positive=True)\n",
    "R, C, P = sm.symbols('R, C, P', negative=False)\n",
    "\n",
    "Cfp = sm.solve(Pdt, C)\n",
    "Cst = Cfp[0]\n",
    "Cstv = Cst.subs([(aP , 0.02),( eP , 0.03),( mP , 0.05),( hP , 0.2) ])\n",
    "Cstv"
   ]
  },
  {
   "cell_type": "code",
   "execution_count": 10,
   "metadata": {},
   "outputs": [
    {
     "data": {
      "text/latex": [
       "$\\displaystyle 14477.0270955408$"
      ],
      "text/plain": [
       "14477.0270955408"
      ]
     },
     "execution_count": 10,
     "metadata": {},
     "output_type": "execute_result"
    }
   ],
   "source": [
    "Rfp = sm.solve(Rdt, R)\n",
    "R31 = Rfp[1].subs({C:Cfp[0]})\n",
    "Rstv1 = R31.subs([(r , 2.3),( q , 1/15000),(aC , 0.009),( eC , 0.015),( mC , 0.1),( hC , 0.1),(aP , 0.02),( eP , 0.03),( mP , 0.05),( hP , 0.2)])\n",
    "\n",
    "R32 = Rfp[2].subs({C:Cfp[0]})\n",
    "Rstv2 = R32.subs([(r , 2.3),( q , 1/15000),(aC , 0.009),( eC , 0.015),( mC , 0.1),( hC , 0.1),(aP , 0.02),( eP , 0.03),( mP , 0.05),( hP , 0.2)])\n",
    "Rstv2"
   ]
  },
  {
   "cell_type": "code",
   "execution_count": 11,
   "metadata": {},
   "outputs": [],
   "source": [
    "Pfp = sm.solve(Cdt, P)\n",
    "Pfp1 = Pfp[0].subs({C : Cfp[0], R : R31}).simplify()\n",
    "#Pfp1\n",
    "Pstv1 = Pfp1.subs([(r , 2.3),( q , 1/15000),(aC , 0.009),( eC , 0.015),( mC , 0.1),( hC , 0.1),(aP , 0.008),( eP , 0.02),( mP , 0.05),( hP , 0.2)])\n",
    "\n",
    "Pfp2 = Pfp[0].subs({C : Cfp[0], R : R32}).simplify()\n",
    "#Pfp2\n",
    "Pstv2 = Pfp2.subs([(r , 2.3),( q , 1/15000),(aC , 0.009),( eC , 0.015),( mC , 0.1),( hC , 0.1),(aP , 0.008),( eP , 0.02),( mP , 0.05),( hP , 0.2)])\n"
   ]
  },
  {
   "cell_type": "code",
   "execution_count": 13,
   "metadata": {},
   "outputs": [
    {
     "data": {
      "text/latex": [
       "$\\displaystyle -0.756073245994257$"
      ],
      "text/plain": [
       "-0.756073245994257"
      ]
     },
     "execution_count": 13,
     "metadata": {},
     "output_type": "execute_result"
    }
   ],
   "source": [
    "Pstv1"
   ]
  },
  {
   "cell_type": "code",
   "execution_count": 19,
   "metadata": {},
   "outputs": [
    {
     "data": {
      "text/latex": [
       "$\\displaystyle \\left[\\begin{matrix}-2.14533746874628 & -9.287207300589 & 0\\\\8.57373917062971 \\cdot 10^{-5} & -0.0122859873996378 & -0.833333333333334\\\\0 & 0.00103188193816946 & -0.0333333333333333\\end{matrix}\\right]$"
      ],
      "text/plain": [
       "Matrix([\n",
       "[  -2.14533746874628,     -9.287207300589,                   0],\n",
       "[8.57373917062971e-5, -0.0122859873996378,  -0.833333333333334],\n",
       "[                  0, 0.00103188193816946, -0.0333333333333333]])"
      ]
     },
     "execution_count": 19,
     "metadata": {},
     "output_type": "execute_result"
    }
   ],
   "source": [
    "Jss_val =  Jss\n",
    "Jss_val.subs([(r , 2.3),( q , 1/15000),(aC , 0.009),( eC , 0.015),( mC , 0.1),( hC , 0.1),(aP , 0.008),( eP , 0.02),( mP , 0.05),( hP , 0.2), (C, Cstv), (R, Rstv2), (P, Pstv2)])"
   ]
  },
  {
   "cell_type": "code",
   "execution_count": 14,
   "metadata": {},
   "outputs": [
    {
     "data": {
      "text/latex": [
       "$\\displaystyle 0$"
      ],
      "text/plain": [
       "0"
      ]
     },
     "execution_count": 14,
     "metadata": {},
     "output_type": "execute_result"
    }
   ],
   "source": [
    "Jss[2,2].subs([(C, Cst)]).simplify()"
   ]
  },
  {
   "cell_type": "code",
   "execution_count": 15,
   "metadata": {},
   "outputs": [
    {
     "data": {
      "text/latex": [
       "$\\displaystyle \\left[\\begin{matrix}- 2 R q r - \\frac{a_{C} m_{P}}{a_{P} \\left(e_{P} - h_{P} m_{P}\\right) \\left(R a_{C} h_{C} + 1\\right)^{2}} + r & - \\frac{R a_{C}}{R a_{C} h_{C} + 1} & 0\\\\\\frac{a_{C} e_{C} m_{P}}{a_{P} \\left(e_{P} - h_{P} m_{P}\\right) \\left(R a_{C} h_{C} + 1\\right)^{2}} & \\frac{P a_{P} h_{P} m_{P}}{\\left(e_{P} - h_{P} m_{P}\\right) \\left(\\frac{h_{P} m_{P}}{e_{P} - h_{P} m_{P}} + 1\\right)^{2}} - \\frac{P a_{P}}{\\frac{h_{P} m_{P}}{e_{P} - h_{P} m_{P}} + 1} + \\frac{R a_{C} e_{C}}{R a_{C} h_{C} + 1} - m_{C} & - \\frac{m_{P}}{\\left(e_{P} - h_{P} m_{P}\\right) \\left(\\frac{h_{P} m_{P}}{e_{P} - h_{P} m_{P}} + 1\\right)}\\\\0 & \\frac{P a_{P} e_{P}}{\\left(\\frac{h_{P} m_{P}}{e_{P} - h_{P} m_{P}} + 1\\right)^{2}} & \\frac{e_{P} m_{P}}{\\left(e_{P} - h_{P} m_{P}\\right) \\left(\\frac{h_{P} m_{P}}{e_{P} - h_{P} m_{P}} + 1\\right)} - m_{P}\\end{matrix}\\right]$"
      ],
      "text/plain": [
       "Matrix([\n",
       "[-2*R*q*r - a_C*m_P/(a_P*(e_P - h_P*m_P)*(R*a_C*h_C + 1)**2) + r,                                                                                                                   -R*a_C/(R*a_C*h_C + 1),                                                             0],\n",
       "[           a_C*e_C*m_P/(a_P*(e_P - h_P*m_P)*(R*a_C*h_C + 1)**2), P*a_P*h_P*m_P/((e_P - h_P*m_P)*(h_P*m_P/(e_P - h_P*m_P) + 1)**2) - P*a_P/(h_P*m_P/(e_P - h_P*m_P) + 1) + R*a_C*e_C/(R*a_C*h_C + 1) - m_C,          -m_P/((e_P - h_P*m_P)*(h_P*m_P/(e_P - h_P*m_P) + 1))],\n",
       "[                                                              0,                                                                                               P*a_P*e_P/(h_P*m_P/(e_P - h_P*m_P) + 1)**2, e_P*m_P/((e_P - h_P*m_P)*(h_P*m_P/(e_P - h_P*m_P) + 1)) - m_P]])"
      ]
     },
     "execution_count": 15,
     "metadata": {},
     "output_type": "execute_result"
    }
   ],
   "source": [
    "Jss1 = Jss.subs([(C, Cst)])\n",
    "Jss1"
   ]
  },
  {
   "cell_type": "code",
   "execution_count": 18,
   "metadata": {},
   "outputs": [
    {
     "data": {
      "text/latex": [
       "$\\displaystyle \\left[\\begin{matrix}- 2 R q r - \\frac{a_{C} m_{P}}{a_{P} \\left(e_{P} - h_{P} m_{P}\\right) \\left(R a_{C} h_{C} + 1\\right)^{2}} + r & - \\frac{R a_{C}}{R a_{C} h_{C} + 1} & 0\\\\\\frac{a_{C} e_{C} m_{P}}{a_{P} \\left(e_{P} - h_{P} m_{P}\\right) \\left(R a_{C} h_{C} + 1\\right)^{2}} & \\frac{P a_{P} h_{P} m_{P}}{\\left(e_{P} - h_{P} m_{P}\\right) \\left(\\frac{h_{P} m_{P}}{e_{P} - h_{P} m_{P}} + 1\\right)^{2}} - \\frac{P a_{P}}{\\frac{h_{P} m_{P}}{e_{P} - h_{P} m_{P}} + 1} + \\frac{R a_{C} e_{C}}{R a_{C} h_{C} + 1} - m_{C} & - \\frac{m_{P}}{e_{P}}\\\\0 & \\frac{P a_{P} \\left(e_{P} - h_{P} m_{P}\\right)^{2}}{e_{P}} & 0\\end{matrix}\\right]$"
      ],
      "text/plain": [
       "Matrix([\n",
       "[-2*R*q*r - a_C*m_P/(a_P*(e_P - h_P*m_P)*(R*a_C*h_C + 1)**2) + r,                                                                                                                   -R*a_C/(R*a_C*h_C + 1),        0],\n",
       "[           a_C*e_C*m_P/(a_P*(e_P - h_P*m_P)*(R*a_C*h_C + 1)**2), P*a_P*h_P*m_P/((e_P - h_P*m_P)*(h_P*m_P/(e_P - h_P*m_P) + 1)**2) - P*a_P/(h_P*m_P/(e_P - h_P*m_P) + 1) + R*a_C*e_C/(R*a_C*h_C + 1) - m_C, -m_P/e_P],\n",
       "[                                                              0,                                                                                                             P*a_P*(e_P - h_P*m_P)**2/e_P,        0]])"
      ]
     },
     "execution_count": 18,
     "metadata": {},
     "output_type": "execute_result"
    }
   ],
   "source": [
    "n00 = Jss1[0,0]\n",
    "n01 = Jss1[0,1].simplify()\n",
    "n02 = 0\n",
    "\n",
    "n10 = Jss1[1,0].simplify()\n",
    "n11 = Jss1[1,1]\n",
    "n12 = Jss1[1,2].simplify()\n",
    "\n",
    "n20 = 0\n",
    "n21 = Jss1[2,1].simplify()\n",
    "n22 = Jss1[2,2].simplify()\n",
    "Jss2 = sm.Matrix([[n00, n01, n02],[n10, n11, n12],[n20, n21, n22]])\n",
    "Jss2"
   ]
  },
  {
   "cell_type": "code",
   "execution_count": 12,
   "metadata": {},
   "outputs": [
    {
     "data": {
      "text/latex": [
       "$\\displaystyle \\frac{e_{P} \\left(2 \\Delta a_{C} e_{C} h_{C} q - 2 \\Delta a_{C} h_{C}^{2} m_{C} q - a_{C} e_{C} h_{C} + a_{C} h_{C}^{2} m_{C} + e_{C} q + h_{C} m_{C} q\\right)}{a_{P} h_{C} \\left(2 \\Delta a_{C} e_{P} h_{C} q - 2 \\Delta a_{C} h_{C} h_{P} m_{P} q - a_{C} e_{P} h_{C} + a_{C} h_{C} h_{P} m_{P} - e_{P} q + h_{P} m_{P} q\\right)}$"
      ],
      "text/plain": [
       "e_P*(2*Delta*a_C*e_C*h_C*q - 2*Delta*a_C*h_C**2*m_C*q - a_C*e_C*h_C + a_C*h_C**2*m_C + e_C*q + h_C*m_C*q)/(a_P*h_C*(2*Delta*a_C*e_P*h_C*q - 2*Delta*a_C*h_C*h_P*m_P*q - a_C*e_P*h_C + a_C*h_C*h_P*m_P - e_P*q + h_P*m_P*q))"
      ]
     },
     "execution_count": 12,
     "metadata": {},
     "output_type": "execute_result"
    }
   ],
   "source": [
    "d = sm.Symbol('Delta', negative = False)\n",
    "Rst = (1/(2*q)) - (1/(2*aC*hC)) - d\n",
    "Cst = Cfp[0]\n",
    "Pst = Pfp[0].subs(C,Cst)\n",
    "Pst = Pst.subs(R, Rst)\n",
    "Pst.simplify()"
   ]
  },
  {
   "cell_type": "code",
   "execution_count": 20,
   "metadata": {},
   "outputs": [
    {
     "data": {
      "text/latex": [
       "$\\displaystyle \\frac{- 4 a_{C}^{2} h_{C} m_{P} + a_{P} r \\left(e_{P} - h_{P} m_{P}\\right) \\left(a_{C} h_{C} + q \\left(a_{C} h_{C} \\left(2 \\Delta - K\\right) + 1\\right)\\right) \\left(a_{C} h_{C} \\left(2 \\Delta - K\\right) - 1\\right)^{2}}{a_{C} a_{P} h_{C} \\left(e_{P} - h_{P} m_{P}\\right) \\left(a_{C} h_{C} \\left(2 \\Delta - K\\right) - 1\\right)^{2}}$"
      ],
      "text/plain": [
       "(-4*a_C**2*h_C*m_P + a_P*r*(e_P - h_P*m_P)*(a_C*h_C + q*(a_C*h_C*(2*Delta - K) + 1))*(a_C*h_C*(2*Delta - K) - 1)**2)/(a_C*a_P*h_C*(e_P - h_P*m_P)*(a_C*h_C*(2*Delta - K) - 1)**2)"
      ]
     },
     "execution_count": 20,
     "metadata": {},
     "output_type": "execute_result"
    }
   ],
   "source": [
    "Jss[0,0] = Jss[0,0].subs(C, Cst).simplify()\n",
    "Jss[0,0] = Jss[0,0].subs(R, Rst).simplify()\n",
    "Jss[0,0].simplify()"
   ]
  },
  {
   "cell_type": "code",
   "execution_count": 21,
   "metadata": {},
   "outputs": [
    {
     "data": {
      "text/latex": [
       "$\\displaystyle \\frac{a_{C} e_{C} m_{P}}{a_{P} \\left(e_{P} - h_{P} m_{P}\\right) \\left(R a_{C} h_{C} + 1\\right)^{2}}$"
      ],
      "text/plain": [
       "a_C*e_C*m_P/(a_P*(e_P - h_P*m_P)*(R*a_C*h_C + 1)**2)"
      ]
     },
     "execution_count": 21,
     "metadata": {},
     "output_type": "execute_result"
    }
   ],
   "source": [
    "Jss[1,0] = Jss[1,0].subs(C, Cst).simplify()\n",
    "Jss[1,0].simplify()"
   ]
  },
  {
   "cell_type": "code",
   "execution_count": 22,
   "metadata": {},
   "outputs": [
    {
     "data": {
      "text/latex": [
       "$\\displaystyle \\frac{e_{C} e_{P}^{2} \\left(a_{C} h_{C} \\left(2 \\Delta - K\\right) + 1\\right) - h_{C} \\left(a_{C} h_{C} \\left(2 \\Delta - K\\right) - 1\\right) \\left(P a_{P} e_{P} \\left(e_{P} - h_{P} m_{P}\\right) - P a_{P} h_{P} m_{P} \\left(e_{P} - h_{P} m_{P}\\right) + e_{P}^{2} m_{C}\\right)}{e_{P}^{2} h_{C} \\left(a_{C} h_{C} \\left(2 \\Delta - K\\right) - 1\\right)}$"
      ],
      "text/plain": [
       "(e_C*e_P**2*(a_C*h_C*(2*Delta - K) + 1) - h_C*(a_C*h_C*(2*Delta - K) - 1)*(P*a_P*e_P*(e_P - h_P*m_P) - P*a_P*h_P*m_P*(e_P - h_P*m_P) + e_P**2*m_C))/(e_P**2*h_C*(a_C*h_C*(2*Delta - K) - 1))"
      ]
     },
     "execution_count": 22,
     "metadata": {},
     "output_type": "execute_result"
    }
   ],
   "source": [
    "Jss[1,1] = Jss[1,1].subs(C, Cst).simplify()\n",
    "Jss[1,1] = Jss[1,1].subs(R, Rst).simplify()\n",
    "Jss[1,1].simplify()"
   ]
  },
  {
   "cell_type": "code",
   "execution_count": 7,
   "metadata": {},
   "outputs": [
    {
     "data": {
      "text/latex": [
       "$\\displaystyle - a e f + \\lambda^{3} + \\lambda^{2} \\left(- a - d\\right) + \\lambda \\left(a d + b c + e f\\right)$"
      ],
      "text/plain": [
       "-a*e*f + lambda**3 + lambda**2*(-a - d) + lambda*(a*d + b*c + e*f)"
      ]
     },
     "execution_count": 7,
     "metadata": {},
     "output_type": "execute_result"
    }
   ],
   "source": [
    "a,b,c,d,e,f, l = sm.symbols('a,b,c,d,e,f, lambda')\n",
    "tst = sm.Matrix([[a, -b, 0],[c, d, -e], [0, f, 0]])\n",
    "tst1 = tst - l*sm.eye(3)\n",
    "tst2 = tst1.det()*-1\n",
    "tst3 = tst2.simplify()\n",
    "sm.collect(tst3, l)"
   ]
  },
  {
   "cell_type": "code",
   "execution_count": 36,
   "metadata": {},
   "outputs": [
    {
     "data": {
      "text/latex": [
       "$\\displaystyle \\left[\\begin{matrix}- \\frac{C a_{C}}{\\left(R a_{C} h_{C} + 1\\right)^{2}} - 2 R q r + r & - \\frac{R a_{C}}{R a_{C} h_{C} + 1} & 0\\\\\\frac{C a_{C} e_{C}}{\\left(R a_{C} h_{C} + 1\\right)^{2}} & \\frac{C P a_{P}^{2} h_{P}}{\\left(C a_{P} h_{P} + 1\\right)^{2}} - \\frac{P a_{P}}{C a_{P} h_{P} + 1} + \\frac{R a_{C} e_{C}}{R a_{C} h_{C} + 1} - m_{C} & - \\frac{C a_{P}}{C a_{P} h_{P} + 1}\\\\0 & \\frac{P a_{P} e_{P}}{\\left(C a_{P} h_{P} + 1\\right)^{2}} & \\frac{C a_{P} e_{P}}{C a_{P} h_{P} + 1} - m_{P}\\end{matrix}\\right]$"
      ],
      "text/plain": [
       "Matrix([\n",
       "[-C*a_C/(R*a_C*h_C + 1)**2 - 2*R*q*r + r,                                                                      -R*a_C/(R*a_C*h_C + 1),                               0],\n",
       "[           C*a_C*e_C/(R*a_C*h_C + 1)**2, C*P*a_P**2*h_P/(C*a_P*h_P + 1)**2 - P*a_P/(C*a_P*h_P + 1) + R*a_C*e_C/(R*a_C*h_C + 1) - m_C,          -C*a_P/(C*a_P*h_P + 1)],\n",
       "[                                      0,                                                                P*a_P*e_P/(C*a_P*h_P + 1)**2, C*a_P*e_P/(C*a_P*h_P + 1) - m_P]])"
      ]
     },
     "execution_count": 36,
     "metadata": {},
     "output_type": "execute_result"
    }
   ],
   "source": [
    "Jss"
   ]
  },
  {
   "cell_type": "code",
   "execution_count": 38,
   "metadata": {},
   "outputs": [
    {
     "data": {
      "text/latex": [
       "$\\displaystyle \\left[\\begin{matrix}a & - b & 0\\\\c & d & e\\\\0 & f & 0\\end{matrix}\\right]$"
      ],
      "text/plain": [
       "Matrix([\n",
       "[a, -b, 0],\n",
       "[c,  d, e],\n",
       "[0,  f, 0]])"
      ]
     },
     "execution_count": 38,
     "metadata": {},
     "output_type": "execute_result"
    }
   ],
   "source": [
    "tst"
   ]
  },
  {
   "cell_type": "code",
   "execution_count": 35,
   "metadata": {},
   "outputs": [
    {
     "data": {
      "text/latex": [
       "$\\displaystyle e_{P} \\left(e_{P} - h_{P} m_{P}\\right) \\left(R a_{C} e_{C} - R a_{C} h_{C} m_{C} - m_{C}\\right)$"
      ],
      "text/plain": [
       "e_P*(e_P - h_P*m_P)*(R*a_C*e_C - R*a_C*h_C*m_C - m_C)"
      ]
     },
     "execution_count": 35,
     "metadata": {},
     "output_type": "execute_result"
    }
   ],
   "source": [
    "BRI1 = sm.fraction(Cfp[0]/(Pfp[0].subs(C, Cfp[0]).simplify()).simplify())\n",
    "BRI1[1]\n"
   ]
  },
  {
   "cell_type": "code",
   "execution_count": 34,
   "metadata": {},
   "outputs": [
    {
     "data": {
      "text/latex": [
       "$\\displaystyle \\frac{m_{P}}{a_{P} \\left(e_{P} - h_{P} m_{P}\\right)}$"
      ],
      "text/plain": [
       "m_P/(a_P*(e_P - h_P*m_P))"
      ]
     },
     "execution_count": 34,
     "metadata": {},
     "output_type": "execute_result"
    }
   ],
   "source": [
    "Cfp[0]"
   ]
  },
  {
   "cell_type": "code",
   "execution_count": 26,
   "metadata": {},
   "outputs": [
    {
     "data": {
      "text/latex": [
       "$\\displaystyle - \\frac{C a_{C}}{\\left(R a_{C} h_{C} + 1\\right)^{2}} - 2 R q r + r$"
      ],
      "text/plain": [
       "-C*a_C/(R*a_C*h_C + 1)**2 - 2*R*q*r + r"
      ]
     },
     "execution_count": 26,
     "metadata": {},
     "output_type": "execute_result"
    }
   ],
   "source": [
    "R1dt = r*R*(1 - (R*q)) - (aC*R*C)/(1 + (aC*hC*R))\n",
    "C1dt = (eC*aC*R*C)/(1 + (aC*hC*R)) - mC*C\n",
    "\n",
    "Ms1 = sm.Matrix([R1dt, C1dt])\n",
    "Msv1 = Ms1.jacobian([R, C])\n",
    "Msv1[0,0].simplify()  \n"
   ]
  },
  {
   "cell_type": "code",
   "execution_count": 27,
   "metadata": {},
   "outputs": [
    {
     "data": {
      "text/latex": [
       "$\\displaystyle \\frac{m_{C}}{a_{C} \\left(e_{C} - h_{C} m_{C}\\right)}$"
      ],
      "text/plain": [
       "m_C/(a_C*(e_C - h_C*m_C))"
      ]
     },
     "execution_count": 27,
     "metadata": {},
     "output_type": "execute_result"
    }
   ],
   "source": [
    "R1fq = sm.solve(C1dt,R )\n",
    "C1fq = sm.solve(R1dt, C)\n",
    "C1fq = C1fq[0].subs({R:R1fq[0]}).simplify()\n",
    "R1fq[0]"
   ]
  },
  {
   "cell_type": "code",
   "execution_count": 28,
   "metadata": {},
   "outputs": [
    {
     "data": {
      "text/latex": [
       "$\\displaystyle \\frac{e_{C} r \\left(a_{C} e_{C} - a_{C} h_{C} m_{C} - m_{C} q\\right)}{a_{C} m_{C} \\left(e_{C} - h_{C} m_{C}\\right)}$"
      ],
      "text/plain": [
       "e_C*r*(a_C*e_C - a_C*h_C*m_C - m_C*q)/(a_C*m_C*(e_C - h_C*m_C))"
      ]
     },
     "execution_count": 28,
     "metadata": {},
     "output_type": "execute_result"
    }
   ],
   "source": [
    "#B1fq = sm.Mul(C1fq, 1/R1fq[0])\n",
    "B1fq = (C1fq/R1fq[0]).simplify()\n",
    "B1fq"
   ]
  },
  {
   "cell_type": "code",
   "execution_count": 29,
   "metadata": {},
   "outputs": [
    {
     "data": {
      "text/latex": [
       "$\\displaystyle \\left[\\begin{matrix}- \\frac{C R a_{C}}{R a_{C} h_{C} + 1} + R r \\left(- R q + 1\\right)\\\\\\frac{C R a_{C} e_{C}}{R a_{C} h_{C} + 1} - C m_{C}\\end{matrix}\\right]$"
      ],
      "text/plain": [
       "Matrix([\n",
       "[-C*R*a_C/(R*a_C*h_C + 1) + R*r*(-R*q + 1)],\n",
       "[      C*R*a_C*e_C/(R*a_C*h_C + 1) - C*m_C]])"
      ]
     },
     "execution_count": 29,
     "metadata": {},
     "output_type": "execute_result"
    }
   ],
   "source": [
    "sm.Matrix([R1dt, C1dt])\n"
   ]
  },
  {
   "cell_type": "code",
   "execution_count": 30,
   "metadata": {},
   "outputs": [
    {
     "data": {
      "text/latex": [
       "$\\displaystyle \\frac{a_{C} \\left(e_{C} - h_{C} m_{C}\\right) \\left(\\frac{1}{2 a_{C} q} - \\frac{a_{C} h_{C}^{2} r - \\frac{4 a_{C} h_{C} m_{P} q}{a_{P} \\left(e_{P} - h_{P} m_{P}\\right)} + h_{C} q r}{2 a_{C} h_{C} q \\sqrt{r} \\sqrt{a_{C}^{2} h_{C}^{2} r - \\frac{4 a_{C}^{2} h_{C} m_{P} q}{a_{P} \\left(e_{P} - h_{P} m_{P}\\right)} + 2 a_{C} h_{C} q r + q^{2} r}} + \\frac{- a_{C} h_{C} + q}{2 a_{C}^{2} h_{C} q} + \\frac{\\sqrt{a_{C}^{2} h_{C}^{2} r - \\frac{4 a_{C}^{2} h_{C} m_{P} q}{a_{P} \\left(e_{P} - h_{P} m_{P}\\right)} + 2 a_{C} h_{C} q r + q^{2} r}}{2 a_{C}^{2} h_{C} q \\sqrt{r}}\\right)}{m_{C}} + \\frac{\\left(e_{C} - h_{C} m_{C}\\right) \\left(- \\frac{- a_{C} h_{C} + q}{2 a_{C} h_{C} q} - \\frac{\\sqrt{a_{C}^{2} h_{C}^{2} r - \\frac{4 a_{C}^{2} h_{C} m_{P} q}{a_{P} \\left(e_{P} - h_{P} m_{P}\\right)} + 2 a_{C} h_{C} q r + q^{2} r}}{2 a_{C} h_{C} q \\sqrt{r}}\\right)}{m_{C}}$"
      ],
      "text/plain": [
       "a_C*(e_C - h_C*m_C)*(1/(2*a_C*q) - (a_C*h_C**2*r - 4*a_C*h_C*m_P*q/(a_P*(e_P - h_P*m_P)) + h_C*q*r)/(2*a_C*h_C*q*sqrt(r)*sqrt(a_C**2*h_C**2*r - 4*a_C**2*h_C*m_P*q/(a_P*(e_P - h_P*m_P)) + 2*a_C*h_C*q*r + q**2*r)) + (-a_C*h_C + q)/(2*a_C**2*h_C*q) + sqrt(a_C**2*h_C**2*r - 4*a_C**2*h_C*m_P*q/(a_P*(e_P - h_P*m_P)) + 2*a_C*h_C*q*r + q**2*r)/(2*a_C**2*h_C*q*sqrt(r)))/m_C + (e_C - h_C*m_C)*(-(-a_C*h_C + q)/(2*a_C*h_C*q) - sqrt(a_C**2*h_C**2*r - 4*a_C**2*h_C*m_P*q/(a_P*(e_P - h_P*m_P)) + 2*a_C*h_C*q*r + q**2*r)/(2*a_C*h_C*q*sqrt(r)))/m_C"
      ]
     },
     "execution_count": 30,
     "metadata": {},
     "output_type": "execute_result"
    }
   ],
   "source": [
    "TCI = R3/R1fq[0]\n",
    "TCI.diff(aC)"
   ]
  },
  {
   "cell_type": "code",
   "execution_count": 31,
   "metadata": {},
   "outputs": [
    {
     "data": {
      "text/latex": [
       "$\\displaystyle - \\frac{- a_{C} h_{C} + q}{2 a_{C} h_{C} q} - \\frac{\\sqrt{a_{C}^{2} h_{C}^{2} r - \\frac{4 a_{C}^{2} h_{C} m_{P} q}{a_{P} \\left(e_{P} - h_{P} m_{P}\\right)} + 2 a_{C} h_{C} q r + q^{2} r}}{2 a_{C} h_{C} q \\sqrt{r}}$"
      ],
      "text/plain": [
       "-(-a_C*h_C + q)/(2*a_C*h_C*q) - sqrt(a_C**2*h_C**2*r - 4*a_C**2*h_C*m_P*q/(a_P*(e_P - h_P*m_P)) + 2*a_C*h_C*q*r + q**2*r)/(2*a_C*h_C*q*sqrt(r))"
      ]
     },
     "execution_count": 31,
     "metadata": {},
     "output_type": "execute_result"
    }
   ],
   "source": [
    "R3"
   ]
  },
  {
   "cell_type": "code",
   "execution_count": 32,
   "metadata": {},
   "outputs": [
    {
     "data": {
      "text/latex": [
       "$\\displaystyle \\frac{a_{C} \\left(e_{C} - h_{C} m_{C}\\right) \\left(- \\frac{1}{2 a_{C} h_{C} q} - \\frac{- \\frac{2 a_{C}^{2} h_{C} m_{P}}{a_{P} \\left(e_{P} - h_{P} m_{P}\\right)} + a_{C} h_{C} r + q r}{2 a_{C} h_{C} q \\sqrt{r} \\sqrt{a_{C}^{2} h_{C}^{2} r - \\frac{4 a_{C}^{2} h_{C} m_{P} q}{a_{P} \\left(e_{P} - h_{P} m_{P}\\right)} + 2 a_{C} h_{C} q r + q^{2} r}} + \\frac{- a_{C} h_{C} + q}{2 a_{C} h_{C} q^{2}} + \\frac{\\sqrt{a_{C}^{2} h_{C}^{2} r - \\frac{4 a_{C}^{2} h_{C} m_{P} q}{a_{P} \\left(e_{P} - h_{P} m_{P}\\right)} + 2 a_{C} h_{C} q r + q^{2} r}}{2 a_{C} h_{C} q^{2} \\sqrt{r}}\\right)}{m_{C}}$"
      ],
      "text/plain": [
       "a_C*(e_C - h_C*m_C)*(-1/(2*a_C*h_C*q) - (-2*a_C**2*h_C*m_P/(a_P*(e_P - h_P*m_P)) + a_C*h_C*r + q*r)/(2*a_C*h_C*q*sqrt(r)*sqrt(a_C**2*h_C**2*r - 4*a_C**2*h_C*m_P*q/(a_P*(e_P - h_P*m_P)) + 2*a_C*h_C*q*r + q**2*r)) + (-a_C*h_C + q)/(2*a_C*h_C*q**2) + sqrt(a_C**2*h_C**2*r - 4*a_C**2*h_C*m_P*q/(a_P*(e_P - h_P*m_P)) + 2*a_C*h_C*q*r + q**2*r)/(2*a_C*h_C*q**2*sqrt(r)))/m_C"
      ]
     },
     "execution_count": 32,
     "metadata": {},
     "output_type": "execute_result"
    }
   ],
   "source": [
    "TCI.diff(q)"
   ]
  },
  {
   "cell_type": "code",
   "execution_count": 142,
   "metadata": {},
   "outputs": [
    {
     "data": {
      "text/latex": [
       "$\\displaystyle z_{0} e^{- \\frac{E_{0}}{T k}}$"
      ],
      "text/plain": [
       "z0*exp(-E0/(T*k))"
      ]
     },
     "execution_count": 142,
     "metadata": {},
     "output_type": "execute_result"
    }
   ],
   "source": [
    "z, z0, E0, k, T = sm.symbols('z, z0, E0, k, T')\n",
    "z = z0*sm.exp(-E0/(k*T))\n",
    "#z.diff(T)\n",
    "z"
   ]
  }
 ],
 "metadata": {
  "kernelspec": {
   "display_name": "Python 3",
   "language": "python",
   "name": "python3"
  },
  "language_info": {
   "codemirror_mode": {
    "name": "ipython",
    "version": 3
   },
   "file_extension": ".py",
   "mimetype": "text/x-python",
   "name": "python",
   "nbconvert_exporter": "python",
   "pygments_lexer": "ipython3",
   "version": "3.7.7"
  }
 },
 "nbformat": 4,
 "nbformat_minor": 4
}
