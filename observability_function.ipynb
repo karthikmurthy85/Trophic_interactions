{
 "cells": [
  {
   "cell_type": "code",
   "execution_count": 1,
   "metadata": {},
   "outputs": [],
   "source": [
    "import sympy as sm\n",
    "import numpy as np\n",
    "import scipy as sp\n",
    "import matplotlib.pyplot as plt"
   ]
  },
  {
   "cell_type": "code",
   "execution_count": 2,
   "metadata": {},
   "outputs": [
    {
     "data": {
      "text/latex": [
       "$\\displaystyle \\left[\\begin{matrix}- C R a_{C} + R r \\left(1 - \\frac{R}{K}\\right)\\\\- C P a_{P} + C R a_{C} e_{C} - C m_{C}\\\\C P a_{P} e_{P} - P m_{P}\\end{matrix}\\right]$"
      ],
      "text/plain": [
       "Matrix([\n",
       "[      -C*R*a_C + R*r*(1 - R/K)],\n",
       "[-C*P*a_P + C*R*a_C*e_C - C*m_C],\n",
       "[           C*P*a_P*e_P - P*m_P]])"
      ]
     },
     "execution_count": 2,
     "metadata": {},
     "output_type": "execute_result"
    }
   ],
   "source": [
    "r, K, aC, eC, mC, aP, eP, mP = sm.symbols('r, K, a_C, e_C, m_C, a_P, e_P, m_P', positive=True)\n",
    "R, C, P = sm.symbols('R, C, P', negative=False)\n",
    "u, du = sm.symbols('u, du')\n",
    "\n",
    "Rdt = r*R*(1 - (R/K)) - aC*R*C\n",
    "Cdt = eC*aC*R*C - aP*C*P - mC*C\n",
    "Pdt = eP*aP*C*P - mP*P\n",
    "\n",
    "sm.Matrix([Rdt, Cdt, Pdt])"
   ]
  },
  {
   "cell_type": "code",
   "execution_count": 3,
   "metadata": {
    "scrolled": true
   },
   "outputs": [
    {
     "data": {
      "text/latex": [
       "$\\displaystyle \\left[\\begin{matrix}- C a_{C} + r \\left(1 - \\frac{R}{K}\\right) - \\frac{R r}{K} & - R a_{C} & 0\\\\C a_{C} e_{C} & - P a_{P} + R a_{C} e_{C} - m_{C} & - C a_{P}\\\\0 & P a_{P} e_{P} & C a_{P} e_{P} - m_{P}\\end{matrix}\\right]$"
      ],
      "text/plain": [
       "Matrix([\n",
       "[-C*a_C + r*(1 - R/K) - R*r/K,                   -R*a_C,               0],\n",
       "[                   C*a_C*e_C, -P*a_P + R*a_C*e_C - m_C,          -C*a_P],\n",
       "[                           0,                P*a_P*e_P, C*a_P*e_P - m_P]])"
      ]
     },
     "execution_count": 3,
     "metadata": {},
     "output_type": "execute_result"
    }
   ],
   "source": [
    "eqs = sm.solve([Rdt,Cdt,Pdt], R, C, P)\n",
    "\n",
    "Ms = sm.Matrix([Rdt, Cdt, Pdt])\n",
    "Msv = Ms.jacobian([R, C, P])\n",
    "Msv\n"
   ]
  },
  {
   "cell_type": "code",
   "execution_count": 4,
   "metadata": {},
   "outputs": [
    {
     "data": {
      "text/latex": [
       "$\\displaystyle -4.862$"
      ],
      "text/plain": [
       "-4.86200000000000"
      ]
     },
     "execution_count": 4,
     "metadata": {},
     "output_type": "execute_result"
    }
   ],
   "source": [
    "MsvT = Msv[0] + Msv[4] + Msv[8]; MsvT\n",
    "r1 =3.3; K1 = 15000; aC1 = 0.005; eC1 = 0.01; mC1 = 0.1; aP1 = 0.003; eP1 = 0.02; mP1 = 0.03\n",
    "R1 = 10000; C1 = 800; P1 = 60\n",
    "Trvl = MsvT.subs([(r,r1), (K,K1), (aC,aC1), (eC,eC1), (mC,mC1), (aP,aP1), (eP,eP1), (mP,mP1), (R,R1), (C,C1), (P,P1)])\n",
    "Trvl\n"
   ]
  },
  {
   "cell_type": "code",
   "execution_count": 5,
   "metadata": {},
   "outputs": [
    {
     "data": {
      "text/latex": [
       "$\\displaystyle \\left[\\begin{matrix}R \\left(1 - \\frac{R}{K}\\right) & \\frac{R^{2} r}{K^{2}} & - C R & 0 & 0 & 0 & 0 & 0\\\\0 & 0 & C R e_{C} & C R a_{C} & - C & - C P & 0 & 0\\\\0 & 0 & 0 & 0 & 0 & C P e_{P} & C P a_{P} & - P\\end{matrix}\\right]$"
      ],
      "text/plain": [
       "Matrix([\n",
       "[R*(1 - R/K), R**2*r/K**2,    -C*R,       0,  0,       0,       0,  0],\n",
       "[          0,           0, C*R*e_C, C*R*a_C, -C,    -C*P,       0,  0],\n",
       "[          0,           0,       0,       0,  0, C*P*e_P, C*P*a_P, -P]])"
      ]
     },
     "execution_count": 5,
     "metadata": {},
     "output_type": "execute_result"
    }
   ],
   "source": [
    "Mpv = Ms.jacobian([r, K, aC, eC, mC, aP, eP, mP])\n",
    "Mpv"
   ]
  },
  {
   "cell_type": "code",
   "execution_count": 6,
   "metadata": {},
   "outputs": [
    {
     "data": {
      "text/latex": [
       "$\\displaystyle \\left[\\begin{matrix}R \\left(1 - \\frac{R}{K}\\right) & \\frac{R^{2} r}{K^{2}} & - C R & 0 & 0 & 0 & 0 & 0\\\\0 & 0 & C R e_{C} & C R a_{C} & - C & - C P & 0 & 0\\\\0 & 0 & 0 & 0 & 0 & C P e_{P} & C P a_{P} & - P\\end{matrix}\\right]$"
      ],
      "text/plain": [
       "Matrix([\n",
       "[R*(1 - R/K), R**2*r/K**2,    -C*R,       0,  0,       0,       0,  0],\n",
       "[          0,           0, C*R*e_C, C*R*a_C, -C,    -C*P,       0,  0],\n",
       "[          0,           0,       0,       0,  0, C*P*e_P, C*P*a_P, -P]])"
      ]
     },
     "execution_count": 6,
     "metadata": {},
     "output_type": "execute_result"
    }
   ],
   "source": [
    "Mpv\n"
   ]
  },
  {
   "cell_type": "code",
   "execution_count": 7,
   "metadata": {},
   "outputs": [],
   "source": [
    "def TM3_linear(t, u, r, K, aC, eC, mC, aP, eP, mP) :\n",
    "    du = np.zeros([36, 1])\n",
    "    \n",
    "    #variables\n",
    "    R = u[0]\n",
    "    C = u[1]\n",
    "    P = u[2]\n",
    "    \n",
    "    \n",
    "    #evolution of state variables\n",
    "    du[0] = r*R*(1 - (R/K)) - aC*R*C\n",
    "    du[1] = eC*aC*R*C - aP*C*P - mC*C\n",
    "    du[2] = eP*aP*C*P - mP*P\n",
    "    \n",
    "    #Jacobian with respect to state variables\n",
    "    Jx = np.array([[-C*aC + r*(1 - (R/K)) - R*(r/K), -R*aC, 0],[C*aC*eC, -P*aP + R*aC*eC - mC, -C*aP],[0, P*aP*eP, C*aP*eP - mP]])\n",
    "    Dx0 = u[np.arange(3, 3+9)].reshape(3,3)\n",
    "\n",
    "    dDx0 = (np.matmul(Jx,Dx0))\n",
    "    dDxv0 = dDx0.reshape(9, 1)\n",
    "    du[np.arange(3,3+9)] = dDxv0\n",
    "    \n",
    "    #Jacobian with respect to parameters\n",
    "    Jalpha0 = np.array([R*(1 - (R/K)), R**2*(r/K**2), -C*R, 0, 0, 0, 0, 0]).reshape(1,8)\n",
    "    Jalpha1 = np.array([0, 0, C*R*eC, C*R*aC, -C, -C*P, 0, 0]).reshape(1,8)\n",
    "    Jalpha2 = np.array([[0, 0, 0, 0, 0, C*P*eP, C*P*aP, -P]]).reshape(1,8)\n",
    "    Jalpha = np.concatenate((Jalpha0, Jalpha1, Jalpha2), axis=0)\n",
    "    \n",
    "\n",
    "    Dalpha = u[np.arange(12, 12+24)].reshape(3,8)\n",
    "    dDalpha = (np.matmul(Jx,Dalpha) + Jalpha);\n",
    "    dDalphav = dDalpha.reshape(24,1)\n",
    "    du[np.arange(12,12+24)] = dDalphav\n",
    "    du = du.reshape(36,)\n",
    "    return(du)\n"
   ]
  },
  {
   "cell_type": "code",
   "execution_count": 8,
   "metadata": {},
   "outputs": [
    {
     "name": "stdout",
     "output_type": "stream",
     "text": [
      "[0.059, 0.7, 83.0]\n"
     ]
    }
   ],
   "source": [
    "r =2.5; K = 15000; aC = 0.0005; eC = 0.008; mC = 0.001; aP = 0.001; eP = 0.02; mP = 0.03\n",
    "\n",
    "Cnd0 = K*aC*eC - mC\n",
    "Cnd1 = 1 - ((aC*mP)/(aP*eP*r))\n",
    "Cnd2 = K*eC*Cnd1 - (mC/aP)\n",
    "\n",
    "print([Cnd0, Cnd1, Cnd2])\n",
    "\n"
   ]
  },
  {
   "cell_type": "code",
   "execution_count": 9,
   "metadata": {},
   "outputs": [
    {
     "name": "stdout",
     "output_type": "stream",
     "text": [
      "(36, 10000)\n",
      "(10000,)\n"
     ]
    }
   ],
   "source": [
    "from scipy.integrate import solve_ivp\n",
    "p = (r, K, aC, eC, mC, aP, eP, mP)\n",
    "\n",
    "u0 = np.concatenate(([12000, 3998, 402], np.eye(3).reshape(9), np.zeros(24)), axis=0)\n",
    "t_span = (0.0, 10000.0)\n",
    "tint = np.linspace(0, 1000, 10000)\n",
    "sol1 = solve_ivp (TM3_linear, t_span, u0, args = p, t_eval = tint)\n",
    "\n",
    "print(np.shape(sol1.y))\n",
    "print(np.shape(sol1.t))"
   ]
  },
  {
   "cell_type": "code",
   "execution_count": 10,
   "metadata": {},
   "outputs": [
    {
     "data": {
      "image/png": "[encoded data removed]",
      "text/plain": [
       "<Figure size 432x288 with 1 Axes>"
      ]
     },
     "metadata": {
      "needs_background": "light"
     },
     "output_type": "display_data"
    }
   ],
   "source": [
    "R = sol1.y[0,:].T.reshape(len(sol1.y[0,:]),1);\n",
    "C = sol1.y[1,:].T.reshape(len(sol1.y[1,:]),1);\n",
    "P = sol1.y[2,:].T.reshape(len(sol1.y[2,:]),1);\n",
    "\n",
    "T = sol1.t\n",
    "sv = np.concatenate([R, C, P], axis=1)\n",
    "#plt.yscale(\"log\") \n",
    "plt.plot(T, sv)\n",
    "plt.legend(['Resource', 'Consumer', 'Predator'], shadow=True)\n",
    "plt.show()"
   ]
  },
  {
   "cell_type": "code",
   "execution_count": 11,
   "metadata": {},
   "outputs": [
    {
     "data": {
      "text/plain": [
       "array([[10512.00673989],\n",
       "       [10512.01661399],\n",
       "       [10512.02628837],\n",
       "       [10512.03583715],\n",
       "       [10512.04534758],\n",
       "       [10512.05492007],\n",
       "       [10512.06466815],\n",
       "       [10512.07466401],\n",
       "       [10512.08465419],\n",
       "       [10512.09452736]])"
      ]
     },
     "execution_count": 11,
     "metadata": {},
     "output_type": "execute_result"
    }
   ],
   "source": [
    "R[9990:10000]"
   ]
  },
  {
   "cell_type": "code",
   "execution_count": 12,
   "metadata": {},
   "outputs": [
    {
     "name": "stderr",
     "output_type": "stream",
     "text": [
      "/home/karthik/anaconda3/envs/gee/lib/python3.7/site-packages/ipykernel_launcher.py:21: RuntimeWarning: invalid value encountered in true_divide\n"
     ]
    }
   ],
   "source": [
    "##Lyapunov exponents\n",
    "Dxv = (sol1.y[np.arange(3,3+9),:]).T\n",
    "Ts = np.shape(Dxv)[0]\n",
    "\n",
    "lmbda = np.empty([Ts,3])*np.nan; Nexpx0 = np.empty(Ts)*np.nan;\n",
    "\n",
    "for i in np.arange(Ts):\n",
    "    Dxi = Dxv[i,:].reshape(3,3)\n",
    "    Mi = np.matmul(Dxi.T, Dxi)\n",
    "    \n",
    "    \n",
    "    Mi1 = np.count_nonzero(Mi == np.inf)\n",
    "    Mi2 = np.count_nonzero(Mi == np.nan)\n",
    "    Mii = Mi1 + Mi2\n",
    "    \n",
    "    if Mii == 0:\n",
    "        Uxi,Lxi,Vxi = np.linalg.svd(Mi, full_matrices=True)\n",
    "        Ldxi = np.diag(Lxi);\n",
    "\n",
    "        ti = tint[i];\n",
    "        lambdai = np.log(Lxi)/(2*ti)\n",
    "        Nexpx0i = len(lambdai[lambdai > 0])\n",
    "\n",
    "        lmbda[i,:] = lambdai\n",
    "        Nexpx0[i] = Nexpx0i"
   ]
  },
  {
   "cell_type": "code",
   "execution_count": 13,
   "metadata": {},
   "outputs": [
    {
     "data": {
      "text/plain": [
       "array([0., 1., 1., ..., 0., 0., 0.])"
      ]
     },
     "execution_count": 13,
     "metadata": {},
     "output_type": "execute_result"
    }
   ],
   "source": [
    "Nexpx0"
   ]
  },
  {
   "cell_type": "code",
   "execution_count": 14,
   "metadata": {},
   "outputs": [],
   "source": [
    "i=10000-100\n",
    "Dxi = Dxv[i,:].reshape(3,3)\n",
    "Mi = np.matmul(Dxi.T, Dxi)\n",
    "    \n",
    "Mi1 = np.count_nonzero(Mi == np.inf)\n",
    "Mi2 = np.count_nonzero(Mi == np.nan)\n",
    "Mii = Mi1 + Mi2\n",
    "    \n",
    "if Mii == 0:\n",
    "    Uxi,Lxi,Vxi = np.linalg.svd(Mi, full_matrices=True)\n",
    "    Ldxi = np.diag(Lxi);\n",
    "\n",
    "    ti = tint[i];\n",
    "    lambdai = np.log(Lxi)/(2*ti)\n",
    "    Nexpx0i = len(lambdai[lambdai > 0])\n",
    "\n",
    "    lmbda[i,:] = lambdai\n",
    "    Nexpx0[i] = Nexpx0i\n",
    "\n"
   ]
  },
  {
   "cell_type": "code",
   "execution_count": 15,
   "metadata": {},
   "outputs": [
    {
     "data": {
      "text/plain": [
       "array([-0.00158534, -0.01817035, -0.02899417])"
      ]
     },
     "execution_count": 15,
     "metadata": {},
     "output_type": "execute_result"
    }
   ],
   "source": [
    "i=10000-100\n",
    "lmbda[i]"
   ]
  },
  {
   "cell_type": "code",
   "execution_count": 164,
   "metadata": {},
   "outputs": [
    {
     "data": {
      "text/plain": [
       "array([1484.28661139])"
      ]
     },
     "execution_count": 164,
     "metadata": {},
     "output_type": "execute_result"
    }
   ],
   "source": [
    "lmbda[np.min(np.where(Nexpx0[1:(np.shape(Nexpx0)[0])] == 0))]\n",
    "#R[np.min(np.where(Nexpx0[1:(np.shape(Nexpx0)[0])] == 0))]\n",
    "C[np.min(np.where(Nexpx0[1:(np.shape(Nexpx0)[0])] == 0))]\n",
    "#P[np.min(np.where(Nexpx0[1:(np.shape(Nexpx0)[0])] == 0))]\n",
    "#np.min(np.where(Nexpx0[1:(np.shape(Nexpx0)[0])] == 0))\n",
    "C[8000]"
   ]
  },
  {
   "cell_type": "code",
   "execution_count": null,
   "metadata": {},
   "outputs": [],
   "source": []
  },
  {
   "cell_type": "code",
   "execution_count": 16,
   "metadata": {},
   "outputs": [
    {
     "name": "stderr",
     "output_type": "stream",
     "text": [
      "/home/karthik/anaconda3/envs/gee/lib/python3.7/site-packages/ipykernel_launcher.py:20: RuntimeWarning: divide by zero encountered in log\n"
     ]
    }
   ],
   "source": [
    "##Observability\n",
    "Dalphav = (sol1.y[np.arange(12,12+24),:]).T\n",
    "mu = np.zeros([Ts,8])*np.nan; Nexpalpha = np.zeros(Ts)*np.nan;\n",
    "\n",
    "for i in np.arange(Ts):\n",
    "    \n",
    "    Dalphai = Dalphav[i,:].reshape(3,8)\n",
    "    Pi = np.matmul(Dalphai.T, Dalphai)\n",
    "    \n",
    "    Pi1 = np.count_nonzero(Pi == np.inf)\n",
    "    Pi2 = np.count_nonzero(Pi == np.nan)\n",
    "    Pii = Pi1 + Pi2\n",
    "    \n",
    "\n",
    "    if Pii == 0:\n",
    "    \n",
    "        Ualphai,Lalphai,Valphai = np.linalg.svd(Pi, full_matrices=True);\n",
    "\n",
    "        ti = tint[i];\n",
    "        mui = np.log(Lalphai)/(2*ti)\n",
    "        Nexpalphai = len(mui[mui > 0])\n",
    "\n",
    "        mu[i,:] = mui\n",
    "        Nexpalpha[i] = Nexpalphai\n",
    "        \n",
    "        \n"
   ]
  },
  {
   "cell_type": "code",
   "execution_count": 17,
   "metadata": {},
   "outputs": [
    {
     "data": {
      "text/plain": [
       "array([ 0.01629372,  0.01425562,  0.00873548, -0.00439128, -0.00490879,\n",
       "       -0.00577109, -0.00778807, -0.0093882 ])"
      ]
     },
     "execution_count": 17,
     "metadata": {},
     "output_type": "execute_result"
    }
   ],
   "source": [
    "mu[9900,]"
   ]
  },
  {
   "cell_type": "code",
   "execution_count": 62,
   "metadata": {},
   "outputs": [
    {
     "data": {
      "text/plain": [
       "array([0., 0., 0.])"
      ]
     },
     "execution_count": 62,
     "metadata": {},
     "output_type": "execute_result"
    }
   ],
   "source": [
    "a1 = np.array(np.meshgrid(np.arange(10), np.arange(10), np.linspace(0,19,10)))\n",
    "a2 = (a1.reshape(1000, 3))\n",
    "a2[0]\n",
    "#np.linspace(0,19,20)"
   ]
  },
  {
   "cell_type": "markdown",
   "metadata": {},
   "source": [
    "import sympy as sm\n",
    "a,b,c,d,e = sm.symbols('a,b,c,d,e', positive = True)"
   ]
  },
  {
   "cell_type": "code",
   "execution_count": 194,
   "metadata": {},
   "outputs": [
    {
     "data": {
      "text/latex": [
       "$\\displaystyle - \\frac{a}{3} - \\frac{a^{2} - 3 b c - 3 d e}{3 \\sqrt[3]{a^{3} + \\frac{27 a d e}{2} - \\frac{9 a \\left(b c + d e\\right)}{2} + \\frac{\\sqrt{- 4 \\left(a^{2} - 3 b c - 3 d e\\right)^{3} + \\left(2 a^{3} + 27 a d e - 9 a \\left(b c + d e\\right)\\right)^{2}}}{2}}} - \\frac{\\sqrt[3]{a^{3} + \\frac{27 a d e}{2} - \\frac{9 a \\left(b c + d e\\right)}{2} + \\frac{\\sqrt{- 4 \\left(a^{2} - 3 b c - 3 d e\\right)^{3} + \\left(2 a^{3} + 27 a d e - 9 a \\left(b c + d e\\right)\\right)^{2}}}{2}}}{3}$"
      ],
      "text/plain": [
       "-a/3 - (a**2 - 3*b*c - 3*d*e)/(3*(a**3 + 27*a*d*e/2 - 9*a*(b*c + d*e)/2 + sqrt(-4*(a**2 - 3*b*c - 3*d*e)**3 + (2*a**3 + 27*a*d*e - 9*a*(b*c + d*e))**2)/2)**(1/3)) - (a**3 + 27*a*d*e/2 - 9*a*(b*c + d*e)/2 + sqrt(-4*(a**2 - 3*b*c - 3*d*e)**3 + (2*a**3 + 27*a*d*e - 9*a*(b*c + d*e))**2)/2)**(1/3)/3"
      ]
     },
     "execution_count": 194,
     "metadata": {},
     "output_type": "execute_result"
    }
   ],
   "source": [
    "import sympy as sm\n",
    "a,b,c,d,e, l = sm.symbols('a,b,c,d,e,lambda')\n",
    "J5 = sm.Matrix([[-a, -b, 0],[c, 0, -d],[0, e, 0]])\n",
    "J50 = J5 - l*sm.eye(3)\n",
    "eq1 = J50.det()\n",
    "sl = sm.solve(eq1, l)\n",
    "#sl[0]\n",
    "#eq1*-1"
   ]
  },
  {
   "cell_type": "code",
   "execution_count": 193,
   "metadata": {},
   "outputs": [
    {
     "data": {
      "text/latex": [
       "$\\displaystyle - \\frac{a}{3} - \\frac{a^{2} - 3 b c - 3 d e}{3 \\sqrt[3]{a^{3} + \\frac{27 a d e}{2} - \\frac{9 a \\left(b c + d e\\right)}{2} + \\frac{\\sqrt{- 4 \\left(a^{2} - 3 b c - 3 d e\\right)^{3} + \\left(2 a^{3} + 27 a d e - 9 a \\left(b c + d e\\right)\\right)^{2}}}{2}}} - \\frac{\\sqrt[3]{a^{3} + \\frac{27 a d e}{2} - \\frac{9 a \\left(b c + d e\\right)}{2} + \\frac{\\sqrt{- 4 \\left(a^{2} - 3 b c - 3 d e\\right)^{3} + \\left(2 a^{3} + 27 a d e - 9 a \\left(b c + d e\\right)\\right)^{2}}}{2}}}{3}$"
      ],
      "text/plain": [
       "-a/3 - (a**2 - 3*b*c - 3*d*e)/(3*(a**3 + 27*a*d*e/2 - 9*a*(b*c + d*e)/2 + sqrt(-4*(a**2 - 3*b*c - 3*d*e)**3 + (2*a**3 + 27*a*d*e - 9*a*(b*c + d*e))**2)/2)**(1/3)) - (a**3 + 27*a*d*e/2 - 9*a*(b*c + d*e)/2 + sqrt(-4*(a**2 - 3*b*c - 3*d*e)**3 + (2*a**3 + 27*a*d*e - 9*a*(b*c + d*e))**2)/2)**(1/3)/3"
      ]
     },
     "execution_count": 193,
     "metadata": {},
     "output_type": "execute_result"
    }
   ],
   "source": []
  }
 ],
 "metadata": {
  "kernelspec": {
   "display_name": "Python 3",
   "language": "python",
   "name": "python3"
  },
  "language_info": {
   "codemirror_mode": {
    "name": "ipython",
    "version": 3
   },
   "file_extension": ".py",
   "mimetype": "text/x-python",
   "name": "python",
   "nbconvert_exporter": "python",
   "pygments_lexer": "ipython3",
   "version": "3.7.7"
  }
 },
 "nbformat": 4,
 "nbformat_minor": 4
}
