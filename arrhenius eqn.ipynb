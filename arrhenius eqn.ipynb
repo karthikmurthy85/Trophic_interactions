{
 "cells": [
  {
   "cell_type": "code",
   "execution_count": 2,
   "id": "e315ab63",
   "metadata": {},
   "outputs": [],
   "source": [
    "import numpy as np"
   ]
  },
  {
   "cell_type": "code",
   "execution_count": 3,
   "id": "5adddc74",
   "metadata": {},
   "outputs": [],
   "source": [
    "import sympy as sm"
   ]
  },
  {
   "cell_type": "code",
   "execution_count": 4,
   "id": "4933c200",
   "metadata": {},
   "outputs": [],
   "source": [
    "import matplotlib.pyplot as py"
   ]
  },
  {
   "cell_type": "code",
   "execution_count": 26,
   "id": "ac2c91bc",
   "metadata": {
    "scrolled": true
   },
   "outputs": [
    {
     "data": {
      "text/latex": [
       "$\\displaystyle b_{0} m_{0} e^{- E_{r} \\left(- \\frac{1}{T_{c} k} + \\frac{1}{T k}\\right)}$"
      ],
      "text/plain": [
       "b_0*m_0*exp(-E_r*(-1/(T_c*k) + 1/(T*k)))"
      ]
     },
     "execution_count": 26,
     "metadata": {},
     "output_type": "execute_result"
    }
   ],
   "source": [
    "Br, b0, Tc, Er, T, m0, k = sm.symbols('B_r, b_0, T_c, E_r, T, m_0, k')\n",
    "Br = b0*m0*sm.exp(-Er*((1/(k*T)) - (1/(k*Tc))))\n",
    "Br"
   ]
  },
  {
   "cell_type": "code",
   "execution_count": 17,
   "id": "4939d2d1",
   "metadata": {},
   "outputs": [
    {
     "data": {
      "text/latex": [
       "$\\displaystyle 0.00015135339006142 e^{- \\frac{116.045229453684}{T}}$"
      ],
      "text/plain": [
       "0.00015135339006142*exp(-116.045229453684/T)"
      ]
     },
     "execution_count": 17,
     "metadata": {},
     "output_type": "execute_result"
    }
   ],
   "source": [
    "Br1 = Br.subs({b0: 0.01, m0: 0.01, Er: 0.01*1.6021773*10**-19, Tc: 280, k: 1.380649*10**-23})\n",
    "Br1"
   ]
  },
  {
   "cell_type": "code",
   "execution_count": 18,
   "id": "becf7360",
   "metadata": {},
   "outputs": [
    {
     "data": {
      "image/png": "[encoded data removed]",
      "text/plain": [
       "<Figure size 432x288 with 1 Axes>"
      ]
     },
     "metadata": {
      "needs_background": "light"
     },
     "output_type": "display_data"
    },
    {
     "data": {
      "text/plain": [
       "<sympy.plotting.plot.Plot at 0x20058b67970>"
      ]
     },
     "execution_count": 18,
     "metadata": {},
     "output_type": "execute_result"
    }
   ],
   "source": [
    "sm.plot( Br1, (T, 0, 325))\n"
   ]
  },
  {
   "cell_type": "code",
   "execution_count": 62,
   "id": "e2359284",
   "metadata": {},
   "outputs": [
    {
     "data": {
      "text/plain": [
       "'phase_1.png'"
      ]
     },
     "execution_count": 62,
     "metadata": {},
     "output_type": "execute_result"
    }
   ],
   "source": [
    "ids = 1\n",
    "flnm = \"phase_\" + str(ids) + \".png\"\n",
    "flnm"
   ]
  },
  {
   "cell_type": "code",
   "execution_count": 36,
   "id": "8cfb2184",
   "metadata": {},
   "outputs": [
    {
     "name": "stdout",
     "output_type": "stream",
     "text": [
      "- C R a_{C} + R r \\left(1 - \\frac{R}{K}\\right)\n"
     ]
    }
   ],
   "source": [
    "R, r, K, aC, C = sm.symbols('R, r, K, a_C, C')\n",
    "eq1 = R*r*(1-R/K)-a_C*C*R\n",
    "eq1\n",
    "print(sm.latex(eq1))"
   ]
  },
  {
   "cell_type": "code",
   "execution_count": 44,
   "id": "f4a55811",
   "metadata": {},
   "outputs": [
    {
     "name": "stdout",
     "output_type": "stream",
     "text": [
      "- \\frac{C P a_{P}}{C a_{P} h_{P} + 1} + \\frac{C R a_{C} e_{C}}{R a_{C} h_{C} + 1} - C m_{C}\n"
     ]
    }
   ],
   "source": [
    "eP, eC, aC, hC, R, C, aP, P, hP, mC, mP = sm.symbols('e_P, e_C, a_C, h_C, R, C, a_P, P, h_P, m_C, m_P')\n",
    "eq1 = (eC*aC*R*C)/(1 + (aC*hC*R)) - (aP*C*P)/(1+ (aP*hP*C)) - mC*C\n",
    "print(sm.latex(eq1))"
   ]
  },
  {
   "cell_type": "code",
   "execution_count": 45,
   "id": "15fccd57",
   "metadata": {},
   "outputs": [
    {
     "name": "stdout",
     "output_type": "stream",
     "text": [
      "\\frac{C P a_{P} e_{P}}{C a_{P} h_{P} + 1} - P m_{P}\n"
     ]
    }
   ],
   "source": [
    "eq1 = (eP*aP*C*P)/(1+ (aP*hP*C)) - mP*P\n",
    "print(sm.latex(eq1))"
   ]
  },
  {
   "cell_type": "code",
   "execution_count": 64,
   "id": "0dd455f6",
   "metadata": {},
   "outputs": [
    {
     "data": {
      "image/png": "[encoded data removed]",
      "text/latex": [
       "$\\displaystyle 22.76 - 0.76 x$"
      ],
      "text/plain": [
       "22.76 - 0.76⋅x"
      ]
     },
     "execution_count": 64,
     "metadata": {},
     "output_type": "execute_result"
    }
   ],
   "source": [
    "y, x = sm.symbols('y, x')\n",
    "y = -0.76*x + 22.76\n",
    "y"
   ]
  },
  {
   "cell_type": "code",
   "execution_count": 66,
   "id": "fe44143c",
   "metadata": {},
   "outputs": [
    {
     "data": {
      "image/png": "[encoded data removed]",
      "text/latex": [
       "$\\displaystyle 22.76 - 0.76 x$"
      ],
      "text/plain": [
       "22.76 - 0.76⋅x"
      ]
     },
     "execution_count": 66,
     "metadata": {},
     "output_type": "execute_result"
    }
   ],
   "source": [
    "y1 = sm.exp(y)\n",
    "y"
   ]
  },
  {
   "cell_type": "code",
   "execution_count": 75,
   "id": "f3c1734d",
   "metadata": {},
   "outputs": [
    {
     "data": {
      "image/png": "[encoded data removed]",
      "text/latex": [
       "$\\displaystyle \\frac{1}{T}$"
      ],
      "text/plain": [
       "1\n",
       "─\n",
       "T"
      ]
     },
     "execution_count": 75,
     "metadata": {},
     "output_type": "execute_result"
    }
   ],
   "source": [
    "t1 = 1/(k*T)\n",
    "#t1 = t1.subs({k: 1.380649*10**-23})\n",
    "t1 = t1.subs({k:1})\n",
    "t1"
   ]
  },
  {
   "cell_type": "code",
   "execution_count": 76,
   "id": "01440fd6",
   "metadata": {},
   "outputs": [
    {
     "data": {
      "image/png": "[encoded data removed]",
      "text/latex": [
       "$\\displaystyle 7665533891.43676 e^{- \\frac{0.76}{T}}$"
      ],
      "text/plain": [
       "                  -0.76 \n",
       "                  ──────\n",
       "                    T   \n",
       "7665533891.43676⋅ℯ      "
      ]
     },
     "execution_count": 76,
     "metadata": {},
     "output_type": "execute_result"
    }
   ],
   "source": [
    "ym = y1.subs({x: t1})\n",
    "ym"
   ]
  },
  {
   "cell_type": "code",
   "execution_count": 77,
   "id": "2de59bd3",
   "metadata": {},
   "outputs": [
    {
     "data": {
      "image/png": "[encoded data removed]",
      "text/latex": [
       "$\\displaystyle 7646139115.99995$"
      ],
      "text/plain": [
       "7646139115.999952"
      ]
     },
     "execution_count": 77,
     "metadata": {},
     "output_type": "execute_result"
    }
   ],
   "source": [
    "ym1 = sm.lambdify(T, ym)\n",
    "ym1(300)"
   ]
  },
  {
   "cell_type": "code",
   "execution_count": 78,
   "id": "bc3d02b2",
   "metadata": {},
   "outputs": [
    {
     "data": {
      "image/png": "[encoded data removed]",
      "text/plain": [
       "<Figure size 432x288 with 1 Axes>"
      ]
     },
     "metadata": {
      "needs_background": "light"
     },
     "output_type": "display_data"
    },
    {
     "data": {
      "text/plain": [
       "<sympy.plotting.plot.Plot at 0x2005ab13610>"
      ]
     },
     "execution_count": 78,
     "metadata": {},
     "output_type": "execute_result"
    }
   ],
   "source": [
    "sm.plot( ym, (T, 0, 325))"
   ]
  }
 ],
 "metadata": {
  "kernelspec": {
   "display_name": "Python 3",
   "language": "python",
   "name": "python3"
  },
  "language_info": {
   "codemirror_mode": {
    "name": "ipython",
    "version": 3
   },
   "file_extension": ".py",
   "mimetype": "text/x-python",
   "name": "python",
   "nbconvert_exporter": "python",
   "pygments_lexer": "ipython3",
   "version": "3.10.5"
  }
 },
 "nbformat": 4,
 "nbformat_minor": 5
}
